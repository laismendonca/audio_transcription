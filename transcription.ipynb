{
 "cells": [
  {
   "cell_type": "code",
   "execution_count": null,
   "id": "1e00cf14-86eb-40d2-b70f-25d87c914182",
   "metadata": {},
   "outputs": [],
   "source": [
    "import whisper\n",
    "import os\n",
    "\n",
    "path = \"...\" #input path"
   ]
  },
  {
   "cell_type": "code",
   "execution_count": null,
   "id": "abad85c1-a3de-4e0c-80f7-9e7613b971fb",
   "metadata": {},
   "outputs": [],
   "source": [
    "def write_file(file, result):\n",
    "    '''Function to save each transcription in a single txt file'''\n",
    "    with open(f\"{os.path.splitext(file)[0]}.txt\", \"w\", encoding = 'utf-8') as f:\n",
    "        f.write(result)"
   ]
  },
  {
   "cell_type": "code",
   "execution_count": null,
   "id": "501436e3-6eb9-439a-aaa1-9fab47472ba1",
   "metadata": {},
   "outputs": [],
   "source": [
    "#File detection (.wmv) to create a files list to process\n",
    "\n",
    "documents = []\n",
    "for file in os.listdir(path):\n",
    "    f = os.path.join(path, file)\n",
    "    if file.endswith('.wmv') == True:\n",
    "        documents.append(f)"
   ]
  },
  {
   "cell_type": "code",
   "execution_count": null,
   "id": "f0a153f4-1eca-4363-a569-3eb56b5cadf6",
   "metadata": {},
   "outputs": [],
   "source": [
    "#Transcribe and save in a .txt file\n",
    "\n",
    "model = whisper.load_model(\"large\") #model type to transcribe (tiny, base, small, medium or large)\n",
    "\n",
    "for file in documents:\n",
    "    result = model.transcribe(file)\n",
    "    transcript = result['text']\n",
    "    write_file(file, transcript)"
   ]
  },
  {
   "cell_type": "code",
   "execution_count": null,
   "id": "c3ff1a20-8334-41f0-b9a1-1ac0f940eb43",
   "metadata": {},
   "outputs": [],
   "source": []
  },
  {
   "cell_type": "code",
   "execution_count": null,
   "id": "fab273f4-44ac-4b0f-af9a-0c7c703a7820",
   "metadata": {},
   "outputs": [],
   "source": []
  }
 ],
 "metadata": {
  "kernelspec": {
   "display_name": "audio_env",
   "language": "python",
   "name": "audio_env"
  },
  "language_info": {
   "codemirror_mode": {
    "name": "ipython",
    "version": 3
   },
   "file_extension": ".py",
   "mimetype": "text/x-python",
   "name": "python",
   "nbconvert_exporter": "python",
   "pygments_lexer": "ipython3",
   "version": "3.10.4"
  }
 },
 "nbformat": 4,
 "nbformat_minor": 5
}
